{
  "nbformat": 4,
  "nbformat_minor": 0,
  "metadata": {
    "colab": {
      "name": "Project4.ipynb",
      "provenance": []
    },
    "kernelspec": {
      "name": "python3",
      "display_name": "Python 3"
    },
    "language_info": {
      "name": "python"
    }
  },
  "cells": [
    {
      "cell_type": "markdown",
      "source": [
        "Project 4 - Real Calculator"
      ],
      "metadata": {
        "id": "ngro8iA7CAoG"
      }
    },
    {
      "cell_type": "code",
      "execution_count": 1,
      "metadata": {
        "colab": {
          "base_uri": "https://localhost:8080/"
        },
        "id": "4eNUuOsYB_xZ",
        "outputId": "4ada5214-fc26-4079-b1b8-4b4183f2ebc9"
      },
      "outputs": [
        {
          "output_type": "stream",
          "name": "stdout",
          "text": [
            "Real Calculator\n",
            "Enter the equation: 999 - 1000\n",
            "The subtraction of 1000 from 999 is -1\n"
          ]
        }
      ],
      "source": [
        "print(\"Real Calculator\")\n",
        "\n",
        "def add(i,j):\n",
        "  sum=i+j\n",
        "  print(f\"The sum of {i} and {j} is {sum}\")\n",
        "  \n",
        "def subtract(i,j):\n",
        "  sub=i-j\n",
        "  print(f\"The subtraction of {j} from {i} is {sub}\")\n",
        "\n",
        "def multiply(i,j):\n",
        "  mul=i*j\n",
        "  print(f\"The multiplication of {i} and {j} is {mul}\")\n",
        "\n",
        "def divide(i,j):\n",
        "  div=i/j\n",
        "  print(f\"The division of {i} and {j} is {div}\")\n",
        "\n",
        "num1,operator,num2 = map(str,input(\"Enter the equation: \").split())  # example= 3 + 4 \n",
        "\n",
        "num1= int(num1)\n",
        "num2= int(num2)\n",
        "\n",
        "if operator=='+':\n",
        "  add(num1,num2)\n",
        "elif operator=='-':\n",
        "  subtract(num1,num2)\n",
        "elif operator=='*':\n",
        "  multiply(num1,num2)\n",
        "elif operator=='/':\n",
        "  divide(num1,num2)\n",
        "else:\n",
        "  print(\"Ooops!! typing error..  please try again..\")"
      ]
    }
  ]
}